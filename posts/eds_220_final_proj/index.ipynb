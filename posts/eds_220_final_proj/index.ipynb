{
 "cells": [
  {
   "cell_type": "raw",
   "id": "7dcb2fbe-e23c-4182-8cd4-8216d0b6f25d",
   "metadata": {},
   "source": [
    "---\n",
    "title: \"The Scar Left by the 2017 Santa Barbara and Ventura Thomas Fire\"\n",
    "description: \"Final project for EDS 220 @ Bren School UCSB\"\n",
    "author: \n",
    "  - name: Joshua Paul Cohen\n",
    "    url: https://silkiemoth.github.io/\n",
    "    affiliation: MEDS\n",
    "    affiliation_URL: https://bren.ucsb.edu/masters-programs/master-environmental-data-science\n",
    "date: last-modified\n",
    "categories: [Wildfire, Python, Pandas, Geopandas, Xarray]\n",
    "toc: true\n",
    "bibliography: references.bib\n",
    "image: helicopter.jpg\n",
    "citation:\n",
    "  url: https://silkiemoth.github.io/\n",
    "draft: true\n",
    "draft-mode: visible\n",
    "highlight-style: github\n",
    "theme: cosmo\n",
    "execute: \n",
    "  enabled: false\n",
    "---"
   ]
  },
  {
   "cell_type": "markdown",
   "id": "65ad772a-2f02-47b8-b18f-f0132b4d371c",
   "metadata": {},
   "source": [
    "## GitHub\n",
    "##### All relevant files and figures can be found here.\n",
    "#### **https://github.com/silkieMoth/eds220-hwk4**\n",
    "\n",
    "\n",
    "## About\n",
    "\n",
    "![Helicopter surveys wildfire damage in CA](helicopter.jpg)\n",
    "\n",
    "Forest fires are a whale in the California ecosystem with 7,668 wildland fires occurring each year (CAL FIRE, 2024) with the impacts of wildfires becoming greater with climate change (McKenzie et al., 2004). </br>\n",
    "The Thomas Fire was a wildfire that was particularly notable for it's sheer size. In 2017 when it burned through 281,893, it asserted itself as the largest CA wildfire in history at the time. To this day, even as wildfires increase in severity, it still remains the 8~th~ largest wildfire to date as of {{< meta date >}}. </br>\n",
    "The goal of this analysis is to map the impact of the 2017 Thomas Fire relative to the rest of Santa Barbara County. Because the fire left a 'scar' that is visible from space, it shows up in satellite imagery. Landsat data can capture this damage, as the infrared reluctance of burned land is high.\n",
    "\n",
    "\n",
    "Cross-referencing the Thomas Fire perimeter and the Landsat imagery allows us to visualize the scar left behind. Furthermore, we can see the effect of the fire on air quality by visualizing the AQI (Air Quality Index) in the region. AQI is a measure of air quality as it relates to human health, with a focus on O<sub>3</sub>, PM<sub>2.5</sub>, PM<sub>10</sub>, CO, SO<sub>2</sub>, and NO<sub>2</sub>.\n",
    "\n",
    "## Highlights of Analysis\n",
    "\n",
    "::: {center-text}\n",
    "* Subsetting of of CA fire perimeter dataset\n",
    "    + Selected for 2017 Thomas Fire\n",
    "    + Saved out to new shapefile\n",
    "* Initial processing of Landsat imagery\n",
    "    + NetCDF file only had one band\n",
    "        - Therefore, utilizing `squeeze()` and `drop_vars`,the 'band' dimension was removed\n",
    "* Mapping of the Landsat imagery in true color\n",
    "    + The red, green, and blue bands were fitted accordingly\n",
    "* False color mapping of Landsat imagery with infrared\n",
    "    + Plotting with infrared in colored bands allows visualization of Thomas Fire damage\n",
    "        - Short-wave infrared in red band\n",
    "            * SWIR's reflectance correlates with moisture in plants and soil. A dry environment like a newly burned forest will reflect greatly.\n",
    "        - Near Infrared in green band\n",
    "            * This is useful for analysis as much like plants reflect green light, they reflect NIR very strongly, particularly healthy vegetation.\n",
    "* Plotting of Santa Barbara AQI: daily & 5 day average\n",
    "    + The 2017 and 2018 AQI datasets were combined, subsetted, and averaged.\n",
    "            \n",
    ":::\n",
    "\n",
    "## Dataset Descriptions\n",
    "\n",
    "::: {center-text}\n",
    "#### This analysis incorporates two datasets:\n",
    "\n",
    "* California Historical Fire Perimeters\n",
    "    + Acquired from the California Natural Resources Agency\n",
    "    + Data on fires dating back to 1898.\n",
    "    + Over 15000 entries.\n",
    "    + Each row corresponds to single polygon representing a perimeter for a given fire.\n",
    "* Landsat imagery of Santa Barbara County\n",
    "    + Data array from Landsat Collection 2 Level-2.\n",
    "    + Collected on January 26, 2018.\n",
    "    + Pre-processed, reduced resolution and extent to Santa Barbara County.\n",
    "    + Included variables:\n",
    "        - Visible light spectrum\n",
    "            * RGB\n",
    "        - Infrared\n",
    "            * NIR08 (Near)\n",
    "            * SWIR22 (Short-Wave)\n",
    "    + Included dimensions\n",
    "        - band\n",
    "            * Notes number of bands\n",
    "            * Length = 1\n",
    "        - x\n",
    "            * Longitude\n",
    "            * Length = 870\n",
    "        - y\n",
    "            * Latitude\n",
    "            * Length = 731\n",
    "* Daily AQI by county 2017 and 2018\n",
    "    + Datasets produced by the Environmental Protection Agency\n",
    "    + Each record contains a state, county, date, level of concern, and defining pollutant.\n",
    "    + Combined datasets contain over 650000 entries.\n",
    "    \n",
    "        \n",
    "### Data Access\n",
    "\n",
    "- `California_Fire_Perimeters_(1950+)` can be downloaded from [California Natural Resources agency](https://gis.data.cnra.ca.gov/datasets/CALFIRE-Forestry::california-fire-perimeters-1950-1/explore) website.\n",
    "- `landsat8-2018-01-26-sb-simplified` is a pre-processed file and the only way to access it is through University of California, Santa Barbara's Posit Workbench server. However, a similar Landsat image of Santa Barbara can be downloaded from the [Microsoft Planetary Computer](https://planetarycomputer.microsoft.com/dataset/landsat-c2-l2) data catalogue.\n",
    "- `daily_aqi_by_county_2017.zip` and `daily_aqi_by_county_2018.zip` are acquirable from the [Environmental Protection Agency website](https://aqs.epa.gov/aqsweb/airdata/download_files.html) under the 'Daily AQI' section.\n",
    "        \n",
    ":::\n",
    "\n",
    "## Analysis\n",
    "\n",
    "### Subset and saving of the 2017 Thomas Fire shapefile\n",
    "\n",
    "Subset for the 2017 Thomas Fire record and save to `.shp` format."
   ]
  },
  {
   "cell_type": "code",
   "execution_count": null,
   "id": "7e62c285-7b24-42cf-8c5e-4ba94a13151a",
   "metadata": {},
   "outputs": [],
   "source": [
    "# Subset for 2017 Thomas Fire\n",
    "thomas_perim = fire_perim[(fire_perim['fire_name'].str.contains('thomas')) & \n",
    "           (fire_perim['year'] == 2017)]\n",
    "\n",
    "# Make folder to save shapefile\n",
    "if not os.path.exists('data/thomas_perim'):\n",
    "    os.makedirs('data/thomas_perim')\n",
    "\n",
    "# Save subset as .shp\n",
    "thomas_perim.to_file('data/thomas_perim/thomas_perim.shp')"
   ]
  },
  {
   "cell_type": "markdown",
   "id": "f5d224ff-ad67-4774-b191-bb00061d1eb7",
   "metadata": {},
   "source": [
    "### Landsat data cleaning\n",
    "\n",
    "Because there is only one band in the `dataArray`, we can drop the `band` dimension. This will prevent plotting errors."
   ]
  },
  {
   "cell_type": "code",
   "execution_count": null,
   "id": "73a26755-8753-4e6e-881d-f4f46a06942c",
   "metadata": {},
   "outputs": [],
   "source": [
    "# Drop `band` dimension\n",
    "landsat_bandless = landsat.squeeze().drop_vars('band')"
   ]
  },
  {
   "cell_type": "markdown",
   "id": "504f4f69-fa3c-41ef-a6d0-9507ce25857d",
   "metadata": {},
   "source": [
    "### True color visualization of Santa Barbara County\n",
    "\n",
    "Landsat imagery contains standard RGB bands, allowing true color plotting."
   ]
  },
  {
   "cell_type": "code",
   "execution_count": null,
   "id": "23bda0bd-1caf-4fdf-810e-0bf88ac2d30a",
   "metadata": {},
   "outputs": [],
   "source": [
    "# Create false color dataArray\n",
    "true_col = landsat_bandless[['red', 'green', 'blue']]\n",
    "\n",
    "# Plot landsat bands adjusting for cloud cover\n",
    "fig, ax = plt.subplots()\n",
    "ax.axis('off')\n",
    "\n",
    "true_col.to_array().plot.imshow(robust = True)\n",
    "\n",
    "# create scalebar\n",
    "ax.add_artist(ScaleBar(0.08, \n",
    "                       \"cm\", \n",
    "                       length_fraction = 0.30, \n",
    "                       width_fraction = 0.02,\n",
    "                       location = 'lower left',\n",
    "                       box_alpha = 0.2,\n",
    "                       box_color = 'k',\n",
    "                       color = 'w'))\n",
    "\n",
    "ax.set_title('True Color Imagery of Santa Barbara County, CA')"
   ]
  },
  {
   "cell_type": "markdown",
   "id": "b2497f65-d1aa-4386-8e13-ae20641a4074",
   "metadata": {},
   "source": [
    "### False color visualization of Thomas Fire damage with infrared reflectance and fire perimeter\n",
    "\n",
    "Placing short-wave infrared and near infrared over red and green highlights freshly burned patches of land."
   ]
  },
  {
   "cell_type": "code",
   "execution_count": null,
   "id": "4876ab66-2e28-48de-ab12-21166eb03097",
   "metadata": {},
   "outputs": [],
   "source": [
    "# Create false color dataArray\n",
    "false_col = landsat_bandless[['swir22', 'nir08', 'red']]\n",
    "\n",
    "# Plot landsat bands adjusting for cloud cover\n",
    "fig, ax = plt.subplots()\n",
    "ax.axis('off')\n",
    "\n",
    "false_col.to_array().plot.imshow(ax = ax,\n",
    "                                 robust = True)\n",
    "\n",
    "# Init legend for landsat bands\n",
    "legend_labels = [Patch(color = 'red', label = 'SWIR22'), \n",
    "                 Patch(color = 'green', label = 'NIR08'), \n",
    "                 Patch(color = 'blue', label = 'Red')]\n",
    "\n",
    "# Declare legend variable for landsat bands\n",
    "legend = ax.legend(handles = legend_labels, \n",
    "                    loc = 'upper right', \n",
    "                    title = 'Bands by RGB Color',\n",
    "                    alignment = 'left',\n",
    "                    fontsize = 'x-small',\n",
    "                    title_fontsize = 'x-small')\n",
    "\n",
    "# create scalebar\n",
    "ax.add_artist(ScaleBar(0.08, \n",
    "                       \"cm\", \n",
    "                       length_fraction = 0.30, \n",
    "                       width_fraction = 0.02,\n",
    "                       location = 'lower left',\n",
    "                       box_alpha = 0.2,\n",
    "                       box_color = 'k',\n",
    "                       color = 'w'))\n",
    "\n",
    "ax.set_title('False Color Imagery of Santa Barbara County, CA')"
   ]
  },
  {
   "cell_type": "markdown",
   "id": "265cd6e0-7114-428d-abd1-b6ba5c611d87",
   "metadata": {},
   "source": [
    "### Concatenation of the 2017 and 2018 AQI datasets.\n",
    "\n",
    "The 2017 and 2018 datasets could only be downloaded separately, and in order to create a visualization of both years, we must combine them"
   ]
  },
  {
   "cell_type": "code",
   "execution_count": null,
   "id": "23470612-0aa1-4b37-83e1-890ef53ec245",
   "metadata": {},
   "outputs": [],
   "source": [
    "# Append 2018 air quality data to 2017 data\n",
    "aqi = pd.concat([aqi_17, aqi_18])"
   ]
  },
  {
   "cell_type": "markdown",
   "id": "4555da3a-4eda-421d-8d61-4dfba995c668",
   "metadata": {},
   "source": [
    "### Subsetting AQI for the area of analysis\n",
    "\n",
    "The dataset contains an associated county for every record. Therefore we can subset for the county most effected by the Thomas Fire, being Santa Barbara."
   ]
  },
  {
   "cell_type": "code",
   "execution_count": null,
   "id": "733d449c-6489-4ab8-9ccd-ec36b3d2fc21",
   "metadata": {},
   "outputs": [],
   "source": [
    "# Subset for data in Santa Barbara and drop unneeded cols\n",
    "aqi_sb = (aqi[aqi['county_name'] == 'Santa Barbara']\n",
    "          .drop(['state_name', 'county_name', 'state_code', 'county_code'], axis = 1))"
   ]
  },
  {
   "cell_type": "markdown",
   "id": "2f70303a-8361-4d6c-b583-b7fc2bd6a233",
   "metadata": {},
   "source": [
    "### Setting the date column as index\n",
    "\n",
    "This allows for plotting datetime on the x axis."
   ]
  },
  {
   "cell_type": "code",
   "execution_count": null,
   "id": "781b2908-2e8e-4edb-8e56-32838ad2364a",
   "metadata": {},
   "outputs": [],
   "source": [
    "# Convert 'date' col to datetime\n",
    "aqi_sb.date = pd.to_datetime(arg = aqi_sb.date)\n",
    "\n",
    "# Set 'date' col as index\n",
    "aqi_sb = aqi_sb.set_index('date')"
   ]
  },
  {
   "cell_type": "markdown",
   "id": "960a3147-633b-46a2-84ec-3db4ddd41158",
   "metadata": {},
   "source": [
    "### Calculating the 5 day average\n",
    "\n",
    "The `rolling` method runs a window of values across the rows of a series or data_frame column, and moves that window down one with each iteration. By applying a summarizing method like `mean`, we can average every value in the window and apply a mean value for each row. \n",
    "\n",
    "`rolling` is used here to create the `five_day_average` column in our AQI data_frame."
   ]
  },
  {
   "cell_type": "code",
   "execution_count": null,
   "id": "31b2e536-1f4a-4857-b5f7-3e12b048da71",
   "metadata": {},
   "outputs": [],
   "source": [
    "# Calculate AQI rolling average over 5 days\n",
    "rolling_average = aqi_sb.aqi.rolling('5D').mean()\n",
    "\n",
    "# Add rolling mean column to air quality df\n",
    "aqi_sb['five_day_average'] = rolling_average"
   ]
  },
  {
   "cell_type": "markdown",
   "id": "de734cac-e78a-41cf-9da0-6164699ac27a",
   "metadata": {},
   "source": [
    "### Plotting daily AQI and 5 year average for Santa Barbara, CA (2017-2018)\n",
    "\n",
    "This plot shows a sharp rise in aqi at the time of the 2017 Thomas Fire."
   ]
  },
  {
   "cell_type": "code",
   "execution_count": null,
   "id": "5eec9c24-7967-45a6-913b-68767826e40a",
   "metadata": {},
   "outputs": [],
   "source": [
    "# Plot the base line graph\n",
    "ax = aqi_sb.plot.line(use_index = True,\n",
    "                     y = ['aqi', 'five_day_average'],\n",
    "                     ylabel = 'Air Quality Index (AQI)',\n",
    "                     xlabel = 'Date',\n",
    "                     title = \"Santa Barbara, CA Air Quality Index (2017-2018)\")\n",
    "\n",
    "# Write in legend labels\n",
    "ax.legend(['Daily', 'Five Day Avg'])\n",
    "\n",
    "# Rotate tick labels 45 degrees\n",
    "ax.set_xticks(ax.get_xticks()) \n",
    "ax.set_xticklabels(ax.get_xticklabels(), rotation=45)\n",
    "\n",
    "# Set x-axis for every other month\n",
    "fter = mdates.AutoDateLocator(maxticks = 20)\n",
    "ax.xaxis.set_major_locator(fter)\n",
    "ax.xaxis.set_major_formatter(mdates.ConciseDateFormatter(fter))   \n",
    "\n",
    "plt.show()"
   ]
  },
  {
   "cell_type": "markdown",
   "id": "2ed3594d-ac37-400e-8e47-f0012cf9faff",
   "metadata": {},
   "source": [
    "## Final Visualizations\n",
    "\n",
    "</br>\n",
    "\n",
    "![](figs/true_col.png){fig-align=\"center\"}\n",
    "\n",
    "This image has the red, green, and blue variables mapped to their respective colors. Because vegetation reflects green light, one can make out somewhat where the vegetation is or isn't. However, the 2017 Thomas Fire damage is hardly visible.\n",
    "\n",
    "</br>\n",
    "\n",
    "![](figs/thomas_fire_vis.png){fig-align=\"center\"}\n",
    "\n",
    "This false color raster plots short-wave infrared and near infrared on the red and green colors respectively. By utilizing infrared light reflectance, the difference between the vegetation rich areas and the vegetation poor areas becomes significantly more distinct. The Thomas Fire damage is now distinctly visible, as SWIR reflects greatly under recently burned areas, and NIR reflects best under healthy vegetation.\n",
    "\n",
    "</br>\n",
    "\n",
    "![](figs/sb_aqi.png){fig-align=\"center\"}\n",
    "\n",
    "\n",
    "## Citations\n",
    "\n",
    "### In-Text\n",
    "\n",
    "CAL FIRE. (2024, November 15). Statistics. State of California. https://www.fire.ca.gov/our-impact/statistics\n",
    "\n",
    "McKenzie, D., Gedalof, Z., Peterson, D.L. and Mote, P. (2004), Climatic Change, Wildfire, and Conservation. Conservation Biology, 18: 890-902. https://doi.org/10.1111/j.1523-1739.2004.00492.x\n",
    "\n",
    "### Data\n",
    "\n",
    "Earth Resources Observation and Science (EROS) Center. (2020). Landsat 8-9 Operational Land Imager / Thermal Infrared Sensor Level-2, Collection 2 [dataset]. U.S. Geological Survey. [Link](https://planetarycomputer.microsoft.com/dataset/landsat-c2-l2)\n",
    "\n",
    "California Department of Forestry and Fire Protection (2024), California Historical Fire Perimeters [dataset]. California Natural Resources Agency.[Link](https://gis.data.cnra.ca.gov/maps/CALFIRE-Forestry::california-historical-fire-perimeters/about)"
   ]
  },
  {
   "cell_type": "code",
   "execution_count": null,
   "id": "b3208fa6-2ba0-4b51-ab65-dc9a146e56aa",
   "metadata": {},
   "outputs": [],
   "source": []
  }
 ],
 "metadata": {
  "kernelspec": {
   "display_name": "Anaconda 3 (EDS220)",
   "language": "python",
   "name": "eds220-env"
  },
  "language_info": {
   "codemirror_mode": {
    "name": "ipython",
    "version": 3
   },
   "file_extension": ".py",
   "mimetype": "text/x-python",
   "name": "python",
   "nbconvert_exporter": "python",
   "pygments_lexer": "ipython3",
   "version": "3.11.4"
  }
 },
 "nbformat": 4,
 "nbformat_minor": 5
}
